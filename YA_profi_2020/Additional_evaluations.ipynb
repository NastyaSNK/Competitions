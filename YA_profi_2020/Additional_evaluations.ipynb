{
 "cells": [
  {
   "cell_type": "markdown",
   "metadata": {},
   "source": [
    "# Доп вычисление при подготовке защиты решения"
   ]
  },
  {
   "cell_type": "code",
   "execution_count": 270,
   "metadata": {},
   "outputs": [
    {
     "data": {
      "text/plain": [
       "{'nan_mode': 'Min',\n",
       " 'eval_metric': 'RMSE',\n",
       " 'iterations': 100,\n",
       " 'sampling_frequency': 'PerTree',\n",
       " 'leaf_estimation_method': 'Newton',\n",
       " 'grow_policy': 'SymmetricTree',\n",
       " 'penalties_coefficient': 1,\n",
       " 'boosting_type': 'Plain',\n",
       " 'model_shrink_mode': 'Constant',\n",
       " 'feature_border_type': 'GreedyLogSum',\n",
       " 'bayesian_matrix_reg': 0.10000000149011612,\n",
       " 'l2_leaf_reg': 10,\n",
       " 'random_strength': 1,\n",
       " 'rsm': 1,\n",
       " 'boost_from_average': True,\n",
       " 'model_size_reg': 0.5,\n",
       " 'subsample': 0.800000011920929,\n",
       " 'use_best_model': False,\n",
       " 'random_seed': 0,\n",
       " 'depth': 6,\n",
       " 'border_count': 90,\n",
       " 'classes_count': 0,\n",
       " 'auto_class_weights': 'None',\n",
       " 'sparse_features_conflict_fraction': 0,\n",
       " 'leaf_estimation_backtracking': 'AnyImprovement',\n",
       " 'best_model_min_trees': 1,\n",
       " 'model_shrink_rate': 0,\n",
       " 'min_data_in_leaf': 1,\n",
       " 'loss_function': 'RMSE',\n",
       " 'learning_rate': 0.10000000149011612,\n",
       " 'score_function': 'Cosine',\n",
       " 'task_type': 'CPU',\n",
       " 'leaf_estimation_iterations': 1,\n",
       " 'bootstrap_type': 'MVS',\n",
       " 'max_leaves': 64}"
      ]
     },
     "execution_count": 270,
     "metadata": {},
     "output_type": "execute_result"
    }
   ],
   "source": [
    "import pickle\n",
    "\n",
    "# Загружаем сохраненный файл\n",
    "with open(r'.\\data\\attempts\\20_catb_p2_5nn.pkl', 'rb') as pkl_file:\n",
    "    p1 = pickle.load(pkl_file)\n",
    "    \n",
    "p1[0].get_all_params()"
   ]
  },
  {
   "cell_type": "markdown",
   "metadata": {},
   "source": [
    "**загрузка данных**"
   ]
  },
  {
   "cell_type": "code",
   "execution_count": 40,
   "metadata": {},
   "outputs": [
    {
     "data": {
      "text/html": [
       "<div>\n",
       "<style scoped>\n",
       "    .dataframe tbody tr th:only-of-type {\n",
       "        vertical-align: middle;\n",
       "    }\n",
       "\n",
       "    .dataframe tbody tr th {\n",
       "        vertical-align: top;\n",
       "    }\n",
       "\n",
       "    .dataframe thead th {\n",
       "        text-align: right;\n",
       "    }\n",
       "</style>\n",
       "<table border=\"1\" class=\"dataframe\">\n",
       "  <thead>\n",
       "    <tr style=\"text-align: right;\">\n",
       "      <th></th>\n",
       "      <th>X</th>\n",
       "      <th>Y</th>\n",
       "    </tr>\n",
       "  </thead>\n",
       "  <tbody>\n",
       "    <tr>\n",
       "      <th>0</th>\n",
       "      <td>216</td>\n",
       "      <td>908</td>\n",
       "    </tr>\n",
       "    <tr>\n",
       "      <th>1</th>\n",
       "      <td>209</td>\n",
       "      <td>916</td>\n",
       "    </tr>\n",
       "    <tr>\n",
       "      <th>2</th>\n",
       "      <td>244</td>\n",
       "      <td>921</td>\n",
       "    </tr>\n",
       "    <tr>\n",
       "      <th>3</th>\n",
       "      <td>232</td>\n",
       "      <td>917</td>\n",
       "    </tr>\n",
       "    <tr>\n",
       "      <th>4</th>\n",
       "      <td>208</td>\n",
       "      <td>919</td>\n",
       "    </tr>\n",
       "    <tr>\n",
       "      <th>...</th>\n",
       "      <td>...</td>\n",
       "      <td>...</td>\n",
       "    </tr>\n",
       "    <tr>\n",
       "      <th>133</th>\n",
       "      <td>205</td>\n",
       "      <td>911</td>\n",
       "    </tr>\n",
       "    <tr>\n",
       "      <th>134</th>\n",
       "      <td>219</td>\n",
       "      <td>907</td>\n",
       "    </tr>\n",
       "    <tr>\n",
       "      <th>135</th>\n",
       "      <td>231</td>\n",
       "      <td>920</td>\n",
       "    </tr>\n",
       "    <tr>\n",
       "      <th>136</th>\n",
       "      <td>225</td>\n",
       "      <td>922</td>\n",
       "    </tr>\n",
       "    <tr>\n",
       "      <th>137</th>\n",
       "      <td>216</td>\n",
       "      <td>920</td>\n",
       "    </tr>\n",
       "  </tbody>\n",
       "</table>\n",
       "<p>138 rows × 2 columns</p>\n",
       "</div>"
      ],
      "text/plain": [
       "       X    Y\n",
       "0    216  908\n",
       "1    209  916\n",
       "2    244  921\n",
       "3    232  917\n",
       "4    208  919\n",
       "..   ...  ...\n",
       "133  205  911\n",
       "134  219  907\n",
       "135  231  920\n",
       "136  225  922\n",
       "137  216  920\n",
       "\n",
       "[138 rows x 2 columns]"
      ]
     },
     "execution_count": 40,
     "metadata": {},
     "output_type": "execute_result"
    }
   ],
   "source": [
    "import pandas as pd\n",
    "from sklearn.model_selection import train_test_split\n",
    "\n",
    "X_FILE_NAME = '\\\\1_X_shuffeled.csv'\n",
    "Y_FILE_NAME = '\\\\1_y_shuffeled.csv'\n",
    "\n",
    "# X = data_train.drop('NTG',axis=1)\n",
    "# y = data_train['NTG']\n",
    "X = pd.read_csv(r'C:\\Users\\snkna\\YA_profi_2020_semi_final\\data\\attempts'+ X_FILE_NAME)\n",
    "y = pd.read_csv(r'C:\\Users\\snkna\\YA_profi_2020_semi_final\\data\\attempts'+Y_FILE_NAME)\n",
    "x_train,x_valid,y_train,y_valid = train_test_split(X, y, test_size=0.25, random_state=240,shuffle=True)\n",
    "X"
   ]
  },
  {
   "cell_type": "markdown",
   "metadata": {},
   "source": [
    "# Расчет метрик качества для spline и rbf интерполяций"
   ]
  },
  {
   "cell_type": "markdown",
   "metadata": {},
   "source": [
    "**grid nearest**"
   ]
  },
  {
   "cell_type": "code",
   "execution_count": 69,
   "metadata": {},
   "outputs": [
    {
     "data": {
      "text/html": [
       "<div>\n",
       "<style scoped>\n",
       "    .dataframe tbody tr th:only-of-type {\n",
       "        vertical-align: middle;\n",
       "    }\n",
       "\n",
       "    .dataframe tbody tr th {\n",
       "        vertical-align: top;\n",
       "    }\n",
       "\n",
       "    .dataframe thead th {\n",
       "        text-align: right;\n",
       "    }\n",
       "</style>\n",
       "<table border=\"1\" class=\"dataframe\">\n",
       "  <thead>\n",
       "    <tr style=\"text-align: right;\">\n",
       "      <th></th>\n",
       "      <th>X</th>\n",
       "      <th>Y</th>\n",
       "      <th>NTG</th>\n",
       "    </tr>\n",
       "  </thead>\n",
       "  <tbody>\n",
       "    <tr>\n",
       "      <th>95</th>\n",
       "      <td>204</td>\n",
       "      <td>907</td>\n",
       "      <td>0.2517</td>\n",
       "    </tr>\n",
       "    <tr>\n",
       "      <th>27</th>\n",
       "      <td>244</td>\n",
       "      <td>911</td>\n",
       "      <td>0.2463</td>\n",
       "    </tr>\n",
       "    <tr>\n",
       "      <th>84</th>\n",
       "      <td>207</td>\n",
       "      <td>912</td>\n",
       "      <td>0.3054</td>\n",
       "    </tr>\n",
       "  </tbody>\n",
       "</table>\n",
       "</div>"
      ],
      "text/plain": [
       "      X    Y     NTG\n",
       "95  204  907  0.2517\n",
       "27  244  911  0.2463\n",
       "84  207  912  0.3054"
      ]
     },
     "execution_count": 69,
     "metadata": {},
     "output_type": "execute_result"
    }
   ],
   "source": [
    "from scipy.interpolate import griddata\n",
    "import numpy as np\n",
    "import pandas as pd\n",
    "\n",
    "\n",
    "grid_x, grid_y = np.mgrid[201:246:46j, 901:930:30j]\n",
    "grid_z0 = griddata(x_train, y_train, (grid_x, grid_y), method='nearest')\n",
    "grid_z0_df = pd.DataFrame(grid_z0.reshape(-1,30),columns=range(901,931),index=range(201,247))\n",
    "\n",
    "data_test0 = x_valid\n",
    "l = []\n",
    "for i in data_test0.index:\n",
    "    l.append(grid_z0_df.loc[ data_test0.loc[i,'X'], data_test0.loc[i,'Y']])\n",
    "\n",
    "data_test12 = data_test0.copy()\n",
    "data_test12['NTG'] = l\n",
    "data_test12.head(3)"
   ]
  },
  {
   "cell_type": "code",
   "execution_count": 68,
   "metadata": {},
   "outputs": [
    {
     "data": {
      "text/plain": [
       "0.06571083841889622"
      ]
     },
     "execution_count": 68,
     "metadata": {},
     "output_type": "execute_result"
    }
   ],
   "source": [
    "from sklearn.metrics import mean_squared_error\n",
    "np.sqrt(mean_squared_error(y_valid,data_test12[['NTG']]))"
   ]
  },
  {
   "cell_type": "markdown",
   "metadata": {},
   "source": [
    "**rbf function='multiquadric', smooth=0**"
   ]
  },
  {
   "cell_type": "code",
   "execution_count": 72,
   "metadata": {},
   "outputs": [
    {
     "data": {
      "text/plain": [
       "0.0764165513802735"
      ]
     },
     "execution_count": 72,
     "metadata": {},
     "output_type": "execute_result"
    }
   ],
   "source": [
    "from scipy.interpolate import Rbf\n",
    "\n",
    "\n",
    "rbfi = Rbf(x_train['X'], x_train['Y'], y_train['NTG'])  # radial basis function interpolator instance\n",
    "xi = yi = zi = np.linspace(0, 1, 20)\n",
    "di = rbfi(x_valid['X'], x_valid['Y'])   # interpolated values\n",
    "\n",
    "data_test13 = data_test0.copy()\n",
    "data_test13['NTG'] = di\n",
    "np.sqrt(mean_squared_error(y_valid,data_test13[['NTG']]))"
   ]
  },
  {
   "cell_type": "markdown",
   "metadata": {},
   "source": [
    "**rbf function='multiquadric', smooth=1**"
   ]
  },
  {
   "cell_type": "code",
   "execution_count": 75,
   "metadata": {},
   "outputs": [
    {
     "data": {
      "text/plain": [
       "0.0554378492937172"
      ]
     },
     "execution_count": 75,
     "metadata": {},
     "output_type": "execute_result"
    }
   ],
   "source": [
    "rbfi = Rbf(x_train['X'], x_train['Y'], y_train['NTG'], function='multiquadric', smooth=1)  # radial basis function interpolator instance\n",
    "xi = yi = zi = np.linspace(0, 1, 20)\n",
    "di2 = rbfi(x_valid['X'], x_valid['Y'])   # interpolated values\n",
    "\n",
    "data_test14 = data_test0.copy()\n",
    "data_test14['NTG'] = di2\n",
    "np.sqrt(mean_squared_error(y_valid,data_test14[['NTG']]))"
   ]
  },
  {
   "cell_type": "markdown",
   "metadata": {},
   "source": [
    "**rbf function='linear', smooth=1**"
   ]
  },
  {
   "cell_type": "code",
   "execution_count": 76,
   "metadata": {},
   "outputs": [
    {
     "data": {
      "text/plain": [
       "0.05458394254877339"
      ]
     },
     "execution_count": 76,
     "metadata": {},
     "output_type": "execute_result"
    }
   ],
   "source": [
    "rbfi = Rbf(x_train['X'], x_train['Y'], y_train['NTG'], function='linear', smooth=1)  # radial basis function interpolator instance\n",
    "xi = yi = zi = np.linspace(0, 1, 20)\n",
    "di2 = rbfi(x_valid['X'], x_valid['Y'])   # interpolated values\n",
    "\n",
    "data_test14 = data_test0.copy()\n",
    "data_test14['NTG'] = di2\n",
    "np.sqrt(mean_squared_error(y_valid,data_test14[['NTG']]))"
   ]
  },
  {
   "cell_type": "markdown",
   "metadata": {},
   "source": [
    "## Тестирование идей для улучшений"
   ]
  },
  {
   "cell_type": "markdown",
   "metadata": {},
   "source": [
    "### полиномиальные признаки со степенью 11 и признаками 5 ближайших скважин"
   ]
  },
  {
   "cell_type": "code",
   "execution_count": 80,
   "metadata": {},
   "outputs": [
    {
     "name": "stdout",
     "output_type": "stream",
     "text": [
      "\u001b[1mРазмер набора данных:\u001b[0m (138, 4)\n",
      "\u001b[1mПропуски:\n",
      "\u001b[0m Well    0\n",
      "X       0\n",
      "Y       0\n",
      "NTG     0\n",
      "dtype: int64\n",
      "\u001b[1mX и X извлеченные совпадают:\u001b[0m True\n",
      "\u001b[1mY и Y извлеченные совпадают:\u001b[0m True\n",
      "\u001b[1mТипы данных:\n",
      "\u001b[0m X        int64\n",
      "Y        int64\n",
      "NTG    float64\n",
      "dtype: object\n",
      "\u001b[1mУникальных X:\u001b[0m 43\n",
      "\u001b[1mУникальных Y:\u001b[0m 30\n"
     ]
    },
    {
     "data": {
      "text/html": [
       "<div>\n",
       "<style scoped>\n",
       "    .dataframe tbody tr th:only-of-type {\n",
       "        vertical-align: middle;\n",
       "    }\n",
       "\n",
       "    .dataframe tbody tr th {\n",
       "        vertical-align: top;\n",
       "    }\n",
       "\n",
       "    .dataframe thead th {\n",
       "        text-align: right;\n",
       "    }\n",
       "</style>\n",
       "<table border=\"1\" class=\"dataframe\">\n",
       "  <thead>\n",
       "    <tr style=\"text-align: right;\">\n",
       "      <th></th>\n",
       "      <th>X</th>\n",
       "      <th>Y</th>\n",
       "      <th>NTG</th>\n",
       "    </tr>\n",
       "  </thead>\n",
       "  <tbody>\n",
       "    <tr>\n",
       "      <th>0</th>\n",
       "      <td>201</td>\n",
       "      <td>907</td>\n",
       "      <td>0.2006</td>\n",
       "    </tr>\n",
       "    <tr>\n",
       "      <th>1</th>\n",
       "      <td>201</td>\n",
       "      <td>914</td>\n",
       "      <td>0.3624</td>\n",
       "    </tr>\n",
       "    <tr>\n",
       "      <th>2</th>\n",
       "      <td>201</td>\n",
       "      <td>924</td>\n",
       "      <td>0.4381</td>\n",
       "    </tr>\n",
       "    <tr>\n",
       "      <th>3</th>\n",
       "      <td>202</td>\n",
       "      <td>922</td>\n",
       "      <td>0.4289</td>\n",
       "    </tr>\n",
       "    <tr>\n",
       "      <th>4</th>\n",
       "      <td>202</td>\n",
       "      <td>925</td>\n",
       "      <td>0.4021</td>\n",
       "    </tr>\n",
       "  </tbody>\n",
       "</table>\n",
       "</div>"
      ],
      "text/plain": [
       "     X    Y     NTG\n",
       "0  201  907  0.2006\n",
       "1  201  914  0.3624\n",
       "2  201  924  0.4381\n",
       "3  202  922  0.4289\n",
       "4  202  925  0.4021"
      ]
     },
     "execution_count": 80,
     "metadata": {},
     "output_type": "execute_result"
    }
   ],
   "source": [
    "# Заново загрузим данные для чистоты эксперимента\n",
    "import pandas as pd\n",
    "import numpy as np\n",
    "\n",
    "data_train = pd.read_csv(r'.\\data\\Training_wells.csv')\n",
    "print('\\033[1mРазмер набора данных:\\033[0m',data_train.shape)\n",
    "print('\\033[1mПропуски:\\n\\033[0m',data_train.isnull().sum())\n",
    "\n",
    "#Видно, что X и Y - это разделенный по '-' столбец Well. Проверю, что данные совпадают\n",
    "data_train['X_splitted'] = data_train['Well'].str.split('-',expand=True)[0].astype('int')\n",
    "print('\\033[1mX и X извлеченные совпадают:\\033[0m',(data_train['X']==data_train['X_splitted']).value_counts()[1]==data_train.shape[0])\n",
    "data_train['Y_splitted'] = data_train['Well'].str.split('-',expand=True)[1].astype('int')\n",
    "print('\\033[1mY и Y извлеченные совпадают:\\033[0m',(data_train['Y']==data_train['Y_splitted']).value_counts()[1]==data_train.shape[0])\n",
    "\n",
    "#Тк данные совпадают, можно избавиться от лишних, созданных столбцов\n",
    "data_train.drop(['X_splitted','Y_splitted','Well'],axis=1,inplace=True)\n",
    "\n",
    "print('\\033[1mТипы данных:\\n\\033[0m',data_train.dtypes)\n",
    "print('\\033[1mУникальных X:\\033[0m', len(data_train['X'].unique()))\n",
    "print('\\033[1mУникальных Y:\\033[0m', len(data_train['Y'].unique()))\n",
    "data_train.head()"
   ]
  },
  {
   "cell_type": "code",
   "execution_count": 295,
   "metadata": {},
   "outputs": [
    {
     "name": "stdout",
     "output_type": "stream",
     "text": [
      "\u001b[1mРазмер тесиового набора данных:\u001b[0m (1242, 3)\n",
      "\u001b[1mПропуски:\n",
      "\u001b[0m Well    0\n",
      "X       0\n",
      "Y       0\n",
      "dtype: int64\n",
      "\u001b[1mX и X извлеченные совпадают:\u001b[0m True\n",
      "\u001b[1mY и Y извлеченные совпадают:\u001b[0m True\n",
      "\u001b[1mТипы данных:\n",
      "\u001b[0m X    int64\n",
      "Y    int64\n",
      "dtype: object\n",
      "\u001b[1mУникальных X:\u001b[0m 46\n",
      "\u001b[1mУникальных Y:\u001b[0m 30\n"
     ]
    }
   ],
   "source": [
    "import pandas as pd\n",
    "import numpy as np\n",
    "\n",
    "data_test0 = pd.read_csv(r'.\\data\\Empty_part.csv')\n",
    "data_test = data_test0.copy()\n",
    "print('\\033[1mРазмер тесиового набора данных:\\033[0m',data_test0.shape)\n",
    "print('\\033[1mПропуски:\\n\\033[0m',data_test0.isnull().sum())\n",
    "\n",
    "#Видно, что X и Y - это разделенный по '-' столбец Well. Проверю, что данные совпадают\n",
    "data_test['X_splitted'] = data_test['Well'].str.split('-',expand=True)[0].astype('int')\n",
    "print('\\033[1mX и X извлеченные совпадают:\\033[0m',(data_test['X']==data_test['X_splitted']).value_counts()[1]==data_test.shape[0])\n",
    "data_test['Y_splitted'] = data_test['Well'].str.split('-',expand=True)[1].astype('int')\n",
    "print('\\033[1mY и Y извлеченные совпадают:\\033[0m',(data_test['Y']==data_test['Y_splitted']).value_counts()[1]==data_test.shape[0])\n",
    "\n",
    "#Тк данные совпадают, можно избавиться от лишних, созданных столбцов\n",
    "data_test.drop(['X_splitted','Y_splitted','Well'],axis=1,inplace=True)\n",
    "\n",
    "print('\\033[1mТипы данных:\\n\\033[0m',data_test.dtypes)\n",
    "print('\\033[1mУникальных X:\\033[0m', len(data_test['X'].unique()))\n",
    "print('\\033[1mУникальных Y:\\033[0m', len(data_test['Y'].unique()))\n",
    "# data_test.head()"
   ]
  },
  {
   "cell_type": "code",
   "execution_count": 297,
   "metadata": {},
   "outputs": [
    {
     "data": {
      "image/png": "[encoded data removed]",
      "text/plain": [
       "<Figure size 432x288 with 1 Axes>"
      ]
     },
     "metadata": {
      "needs_background": "light"
     },
     "output_type": "display_data"
    },
    {
     "data": {
      "image/png": "[encoded data removed]",
      "text/plain": [
       "<Figure size 432x288 with 1 Axes>"
      ]
     },
     "metadata": {
      "needs_background": "light"
     },
     "output_type": "display_data"
    }
   ],
   "source": [
    "from sklearn.neighbors import BallTree\n",
    "import matplotlib.pyplot as plt\n",
    "from scipy import stats\n",
    "from sklearn.model_selection import train_test_split\n",
    "\n",
    "\n",
    "def calculate_stats(data, column):\n",
    "    \"\"\"Рассчет статистик для выбранного столбца\n",
    "       Результат: датафрейм\"\"\"\n",
    "    \n",
    "    data[column+'_mean'] = data[column].apply(lambda x: np.mean(x))\n",
    "    data[column+'_median'] = data[column].apply(lambda x: np.median(x))\n",
    "    data[column+'_std'] = data[column].apply(lambda x: np.std(x))\n",
    "    data[column+'_scope'] = data[column].apply(lambda x: np.max(x)-np.min(x))\n",
    "    data[column+'_skew'] = data[column].apply(lambda x: stats.skew(x))\n",
    "    data[column+'_kurt'] = data[column].apply(lambda x: stats.kurtosis(x))\n",
    "    return data\n",
    "\n",
    "def extraxt_info(data,column,neighbours):\n",
    "    for i in range(neighbours-1):\n",
    "        data[str(i)+'_'+column] = data[column].apply(lambda x: x[i])\n",
    "    return data\n",
    "\n",
    "\n",
    "def generate_new_features(data,neighbours):\n",
    "    df = data.copy()\n",
    "    bt = BallTree(pd.DataFrame(data_train.drop('NTG',axis=1)), metric='euclidean')\n",
    "    dist, ind = bt.query(df[['X','Y']], k=neighbours)\n",
    "    #Индексы ближайших соседей, без 1го столбца, тк в нем исходная точка\\\n",
    "    ind_final = ind[:,1:]\n",
    "    dist_final = dist[:,1:]\n",
    "    df['Neighbours_idx'] = [d for d in ind_final]\n",
    "    df['Neighbours_dist'] = [d for d in dist_final]\n",
    "    df['Neighbours_NTG'] = [list(data_train.loc[d,'NTG']) for d in df['Neighbours_idx']]\n",
    "    plt.scatter(df.iloc[ind[3],0],df.iloc[ind[3],1])\n",
    "    plt.scatter(df.iloc[3,0],df.iloc[3,1],color='r')\n",
    "    plt.title('Ближайшие соседи для 1й точки в наборе')\n",
    "    plt.show()\n",
    "    #Рассчит статистик\n",
    "    df =  calculate_stats(df,'Neighbours_NTG')\n",
    "    df =  calculate_stats(df,'Neighbours_dist')\n",
    "    #Извлечение инфо о ближайших скважин\n",
    "    extraxt_info(df,'Neighbours_dist',neighbours)\n",
    "    extraxt_info(df,'Neighbours_NTG',neighbours)\n",
    "    #Удаление лишних столбцов\n",
    "    df.drop([ 'Neighbours_idx', 'Neighbours_dist', 'Neighbours_NTG'],axis=1,inplace=True)\n",
    "    return df\n",
    "\n",
    "\n",
    "\n",
    "\n",
    "\n",
    "data_train_with_15neighbours_stats = generate_new_features(data_train,6)\n",
    "data_test_with_15neighbours_stats = generate_new_features(data_test,6)\n",
    "\n",
    "\n",
    "def nn_poly_concat(deg,nn_set,data_set):\n",
    "    from sklearn.preprocessing import PolynomialFeatures\n",
    "    \n",
    "    \n",
    "    poly =  PolynomialFeatures(degree=deg,include_bias=False)\n",
    "    \n",
    "    poly_df = pd.DataFrame(poly.fit_transform(data_set))\n",
    "    poly_df.columns= poly.get_feature_names(data_set.columns)\n",
    "    poly_df.drop(['X','Y'],axis=1,inplace=True)  \n",
    "    poly_nn_test = pd.concat([poly_df,nn_set],axis=1)\n",
    "    return poly_nn_test\n",
    "\n",
    "\n",
    "\n",
    "\n",
    "poly8_15nn_set = nn_poly_concat(11,data_train_with_15neighbours_stats,data_train.drop('NTG',axis=1))\n",
    "poly8_15nn_set_test = nn_poly_concat(11,data_test_with_15neighbours_stats,data_test)\n",
    "\n",
    "\n",
    "X_poly8_15nn = poly8_15nn_set.drop('NTG',axis=1)\n",
    "y_poly8_15nn = poly8_15nn_set['NTG']\n",
    "x_train_p8_15nn,x_valid_p8_15nn,y_train_p8_15nn,y_valid_p8_15nnn = train_test_split(X_poly8_15nn, y_poly8_15nn, test_size=0.25, random_state=240,shuffle=True)\n",
    "\n",
    "data_15nn_p8_shuffeled = poly8_15nn_set.sample(frac=1,random_state=0)\n",
    "X_15nn_p8_shuffeled = data_15nn_p8_shuffeled.drop('NTG',axis=1)\n",
    "y_15nn_p8_shuffeled = data_15nn_p8_shuffeled['NTG']"
   ]
  },
  {
   "cell_type": "code",
   "execution_count": 140,
   "metadata": {},
   "outputs": [
    {
     "data": {
      "text/plain": [
       "0.047517092304410036"
      ]
     },
     "execution_count": 140,
     "metadata": {},
     "output_type": "execute_result"
    }
   ],
   "source": [
    "\n",
    "# Загружаем сохраненный файл\n",
    "with open(r'.\\data\\attempts\\16_rf_p8_nn15.pkl', 'rb') as pkl_file:\n",
    "    p1 = pickle.load(pkl_file)\n",
    "p1.fit(x_train_p8_15nn,y_train_p8_15nn)\n",
    "pred_16 = p1.predict(x_valid_p8_15nn)\n",
    "np.sqrt(mean_squared_error(y_valid_p8_15nnn,pred_16))"
   ]
  },
  {
   "cell_type": "code",
   "execution_count": 298,
   "metadata": {},
   "outputs": [
    {
     "data": {
      "image/png": "[encoded data removed]",
      "text/plain": [
       "<Figure size 432x288 with 2 Axes>"
      ]
     },
     "metadata": {
      "needs_background": "light"
     },
     "output_type": "display_data"
    }
   ],
   "source": [
    "data_test = pd.read_csv(r'.\\data\\attempts\\6_data_test.csv')\n",
    "data_test['NTG'] = p1.predict(poly8_15nn_set_test)\n",
    "sns.heatmap(pd.pivot_table(pd.concat([data_test,data_train]), values='NTG', index=['Y'],\n",
    "                    columns=['X'], aggfunc=np.sum))\n",
    "plt.title('Зависимость песчанистости от X и Y')\n",
    "plt.show()"
   ]
  },
  {
   "cell_type": "markdown",
   "metadata": {},
   "source": [
    "### Многослойный перцептрон"
   ]
  },
  {
   "cell_type": "code",
   "execution_count": 255,
   "metadata": {},
   "outputs": [
    {
     "name": "stderr",
     "output_type": "stream",
     "text": [
      "C:\\ProgramData\\Anaconda3\\lib\\site-packages\\sklearn\\utils\\validation.py:73: DataConversionWarning: A column-vector y was passed when a 1d array was expected. Please change the shape of y to (n_samples, ), for example using ravel().\n",
      "  return f(**kwargs)\n"
     ]
    },
    {
     "data": {
      "text/plain": [
       "0.05147056964569378"
      ]
     },
     "execution_count": 255,
     "metadata": {},
     "output_type": "execute_result"
    }
   ],
   "source": [
    "from sklearn.neural_network import MLPRegressor\n",
    "from sklearn.preprocessing import StandardScaler\n",
    "\n",
    "sc_X = StandardScaler()\n",
    "X_trainscaled=sc_X.fit_transform(x_train)\n",
    "X_testscaled=sc_X.transform(x_valid)\n",
    "\n",
    "clf = MLPRegressor(hidden_layer_sizes=(345,90,),activation='relu',max_iter=1000, random_state=0)\n",
    "clf.fit(X_trainscaled,y_train)\n",
    "\n",
    "pred_17 = clf.predict(X_testscaled)\n",
    "np.sqrt(mean_squared_error(y_valid,pred_17))\n",
    "\n"
   ]
  },
  {
   "cell_type": "code",
   "execution_count": 207,
   "metadata": {},
   "outputs": [
    {
     "data": {
      "text/plain": [
       "array([0.3 , 0.3 , 0.32, 0.32, 0.29, 0.35, 0.3 , 0.34, 0.31, 0.33, 0.27,\n",
       "       0.27, 0.28, 0.31, 0.32, 0.31, 0.3 , 0.33, 0.33, 0.33, 0.27, 0.31,\n",
       "       0.33, 0.39, 0.33, 0.32, 0.3 , 0.34, 0.33, 0.34, 0.32, 0.32, 0.29,\n",
       "       0.35, 0.32])"
      ]
     },
     "execution_count": 207,
     "metadata": {},
     "output_type": "execute_result"
    }
   ],
   "source": [
    "pred_17"
   ]
  },
  {
   "cell_type": "code",
   "execution_count": 302,
   "metadata": {},
   "outputs": [
    {
     "data": {
      "image/png": "[encoded data removed]",
      "text/plain": [
       "<Figure size 432x288 with 2 Axes>"
      ]
     },
     "metadata": {
      "needs_background": "light"
     },
     "output_type": "display_data"
    }
   ],
   "source": [
    "data_test = pd.read_csv(r'.\\data\\attempts\\6_data_test.csv')\n",
    "data_test['NTG'] = clf.predict(data_test[['X','Y']])\n",
    "sns.heatmap(pd.pivot_table(pd.concat([data_test,data_train]), values='NTG', index=['Y'],\n",
    "                    columns=['X'], aggfunc=np.sum))\n",
    "plt.title('Зависимость песчанистости от X и Y')\n",
    "plt.show()"
   ]
  },
  {
   "cell_type": "markdown",
   "metadata": {},
   "source": [
    "### Визуализация полученных результатов"
   ]
  },
  {
   "cell_type": "code",
   "execution_count": 285,
   "metadata": {},
   "outputs": [
    {
     "data": {
      "image/png": "[encoded data removed]",
      "text/plain": [
       "<Figure size 432x288 with 2 Axes>"
      ]
     },
     "metadata": {
      "needs_background": "light"
     },
     "output_type": "display_data"
    }
   ],
   "source": [
    "import seaborn as sns\n",
    "\n",
    "data_test = pd.read_csv(r'.\\data\\attempts\\15_data_test.csv')\n",
    "sns.heatmap(pd.pivot_table(pd.concat([data_test,data_train]), values='NTG', index=['Y'],\n",
    "                    columns=['X'], aggfunc=np.sum))\n",
    "plt.title('Зависимость песчанистости от X и Y')\n",
    "plt.show()"
   ]
  },
  {
   "cell_type": "code",
   "execution_count": 286,
   "metadata": {},
   "outputs": [
    {
     "data": {
      "image/png": "[encoded data removed]",
      "text/plain": [
       "<Figure size 432x288 with 2 Axes>"
      ]
     },
     "metadata": {
      "needs_background": "light"
     },
     "output_type": "display_data"
    }
   ],
   "source": [
    "data_test = pd.read_csv(r'.\\data\\attempts\\14_data_test.csv')\n",
    "sns.heatmap(pd.pivot_table(pd.concat([data_test,data_train]), values='NTG', index=['Y'],\n",
    "                    columns=['X'], aggfunc=np.sum))\n",
    "plt.title('Зависимость песчанистости от X и Y')\n",
    "plt.show()"
   ]
  },
  {
   "cell_type": "code",
   "execution_count": 287,
   "metadata": {},
   "outputs": [
    {
     "data": {
      "image/png": "[encoded data removed]",
      "text/plain": [
       "<Figure size 432x288 with 2 Axes>"
      ]
     },
     "metadata": {
      "needs_background": "light"
     },
     "output_type": "display_data"
    }
   ],
   "source": [
    "data_test = pd.read_csv(r'.\\data\\attempts\\5_data_test.csv')\n",
    "sns.heatmap(pd.pivot_table(pd.concat([data_test,data_train]), values='NTG', index=['Y'],\n",
    "                    columns=['X'], aggfunc=np.sum))\n",
    "plt.title('Зависимость песчанистости от X и Y')\n",
    "plt.show()"
   ]
  },
  {
   "cell_type": "code",
   "execution_count": 288,
   "metadata": {},
   "outputs": [
    {
     "data": {
      "image/png": "[encoded data removed]",
      "text/plain": [
       "<Figure size 432x288 with 2 Axes>"
      ]
     },
     "metadata": {
      "needs_background": "light"
     },
     "output_type": "display_data"
    }
   ],
   "source": [
    "data_test = pd.read_csv(r'.\\data\\attempts\\6_data_test.csv')\n",
    "sns.heatmap(pd.pivot_table(pd.concat([data_test,data_train]), values='NTG', index=['Y'],\n",
    "                    columns=['X'], aggfunc=np.sum))\n",
    "plt.title('Зависимость песчанистости от X и Y')\n",
    "plt.show()"
   ]
  }
 ],
 "metadata": {
  "kernelspec": {
   "display_name": "Python 3",
   "language": "python",
   "name": "python3"
  },
  "language_info": {
   "codemirror_mode": {
    "name": "ipython",
    "version": 3
   },
   "file_extension": ".py",
   "mimetype": "text/x-python",
   "name": "python",
   "nbconvert_exporter": "python",
   "pygments_lexer": "ipython3",
   "version": "3.8.3"
  }
 },
 "nbformat": 4,
 "nbformat_minor": 4
}
